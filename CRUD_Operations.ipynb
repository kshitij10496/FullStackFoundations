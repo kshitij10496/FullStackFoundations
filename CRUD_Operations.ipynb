{
 "cells": [
  {
   "cell_type": "markdown",
   "metadata": {},
   "source": [
    "## CRUD : `CREATE`\n",
    "\n",
    "- creating a new database is as simple as creating a new object in Python"
   ]
  },
  {
   "cell_type": "code",
   "execution_count": 12,
   "metadata": {
    "collapsed": false
   },
   "outputs": [],
   "source": [
    "from sqlalchemy import create_engine\n",
    "from sqlalchemy.orm import sessionmaker"
   ]
  },
  {
   "cell_type": "code",
   "execution_count": 13,
   "metadata": {
    "collapsed": false
   },
   "outputs": [],
   "source": [
    "from database_setup import Base, Restaurant, MenuItem # importing classes"
   ]
  },
  {
   "cell_type": "code",
   "execution_count": 14,
   "metadata": {
    "collapsed": true
   },
   "outputs": [],
   "source": [
    "engine = create_engine('sqlite:///restaurantmenu.db') \n",
    "# create_engine lets our program know which database engine we want to communicate with."
   ]
  },
  {
   "cell_type": "code",
   "execution_count": 15,
   "metadata": {
    "collapsed": true
   },
   "outputs": [],
   "source": [
    "Base.metadata.bind = engine\n",
    "# bind the engine with the Base class\n",
    "# makes the connections between our class definitions and the corresponding tables within our database."
   ]
  },
  {
   "cell_type": "code",
   "execution_count": 16,
   "metadata": {
    "collapsed": true
   },
   "outputs": [],
   "source": [
    "DBSession = sessionmaker(bind=engine)\n",
    "# establishes a link of communication between our code executions and the engine we just created."
   ]
  },
  {
   "cell_type": "code",
   "execution_count": 17,
   "metadata": {
    "collapsed": true
   },
   "outputs": [],
   "source": [
    "# To perform CRUD operations on our DB, SQLAlchemy executes database operations via an interface called a `session`.\n",
    "# A session allows us to write down all the commands we want to execute but not send them to the database until we call a commit.\n",
    "session = DBSession()"
   ]
  },
  {
   "cell_type": "markdown",
   "metadata": {},
   "source": [
    "When we want to make a change in our database, we can do it just by calling a method from within `session`.  \n",
    "The `DBSession` object gives me a staging zone for all of the objects loaded into a database session object.  \n",
    "Any change made to the objects in the session won't persist into the database until committed."
   ]
  },
  {
   "cell_type": "markdown",
   "metadata": {},
   "source": [
    "### Commands for Creating an entry\n",
    "\n",
    "`\n",
    "In []: newEntry = ClassName(property=value,...)\n",
    "In []: session.add(newEntry)\n",
    "In []: session.commit()\n",
    "`"
   ]
  },
  {
   "cell_type": "code",
   "execution_count": 19,
   "metadata": {
    "collapsed": true
   },
   "outputs": [],
   "source": [
    "myFirstRestaurant = Restaurant(name='PFC')\n",
    "session.add(myFirstRestaurant)\n",
    "session.commit()"
   ]
  },
  {
   "cell_type": "code",
   "execution_count": 20,
   "metadata": {
    "collapsed": false
   },
   "outputs": [
    {
     "data": {
      "text/plain": [
       "[<database_setup.Restaurant at 0x10a09b898>]"
      ]
     },
     "execution_count": 20,
     "metadata": {},
     "output_type": "execute_result"
    }
   ],
   "source": [
    "session.query(Restaurant).all() # testing"
   ]
  },
  {
   "cell_type": "code",
   "execution_count": 22,
   "metadata": {
    "collapsed": true
   },
   "outputs": [],
   "source": [
    "cheesePizza = MenuItem(name='Cheese Pizza', description='Made with love by Kshitij', course='Entree', price='$8.99', restaurant=myFirstRestaurant)\n",
    "session.add(cheesePizza)\n",
    "session.commit()"
   ]
  },
  {
   "cell_type": "code",
   "execution_count": 23,
   "metadata": {
    "collapsed": false
   },
   "outputs": [
    {
     "data": {
      "text/plain": [
       "[<database_setup.MenuItem at 0x10a0be7f0>]"
      ]
     },
     "execution_count": 23,
     "metadata": {},
     "output_type": "execute_result"
    }
   ],
   "source": [
    "session.query(MenuItem).all() # testing"
   ]
  },
  {
   "cell_type": "code",
   "execution_count": null,
   "metadata": {
    "collapsed": true
   },
   "outputs": [],
   "source": []
  }
 ],
 "metadata": {
  "kernelspec": {
   "display_name": "Python 3",
   "language": "python",
   "name": "python3"
  },
  "language_info": {
   "codemirror_mode": {
    "name": "ipython",
    "version": 3
   },
   "file_extension": ".py",
   "mimetype": "text/x-python",
   "name": "python",
   "nbconvert_exporter": "python",
   "pygments_lexer": "ipython3",
   "version": "3.6.0"
  }
 },
 "nbformat": 4,
 "nbformat_minor": 2
}
