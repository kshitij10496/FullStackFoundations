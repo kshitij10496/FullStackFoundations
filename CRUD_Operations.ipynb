{
 "cells": [
  {
   "cell_type": "markdown",
   "metadata": {},
   "source": [
    "## CRUD : `CREATE`\n",
    "\n",
    "- creating a new database is as simple as creating a new object in Python"
   ]
  },
  {
   "cell_type": "code",
   "execution_count": 12,
   "metadata": {
    "collapsed": false
   },
   "outputs": [],
   "source": [
    "from sqlalchemy import create_engine\n",
    "from sqlalchemy.orm import sessionmaker"
   ]
  },
  {
   "cell_type": "code",
   "execution_count": 13,
   "metadata": {
    "collapsed": false
   },
   "outputs": [],
   "source": [
    "from database_setup import Base, Restaurant, MenuItem # importing classes"
   ]
  },
  {
   "cell_type": "code",
   "execution_count": 14,
   "metadata": {
    "collapsed": true
   },
   "outputs": [],
   "source": [
    "engine = create_engine('sqlite:///restaurantmenu.db') \n",
    "# create_engine lets our program know which database engine we want to communicate with."
   ]
  },
  {
   "cell_type": "code",
   "execution_count": 15,
   "metadata": {
    "collapsed": true
   },
   "outputs": [],
   "source": [
    "Base.metadata.bind = engine\n",
    "# bind the engine with the Base class\n",
    "# makes the connections between our class definitions and the corresponding tables within our database."
   ]
  },
  {
   "cell_type": "code",
   "execution_count": 16,
   "metadata": {
    "collapsed": true
   },
   "outputs": [],
   "source": [
    "DBSession = sessionmaker(bind=engine)\n",
    "# establishes a link of communication between our code executions and the engine we just created."
   ]
  },
  {
   "cell_type": "code",
   "execution_count": 17,
   "metadata": {
    "collapsed": true
   },
   "outputs": [],
   "source": [
    "# To perform CRUD operations on our DB, SQLAlchemy executes database operations via an interface called a `session`.\n",
    "# A session allows us to write down all the commands we want to execute but not send them to the database until we call a commit.\n",
    "session = DBSession()"
   ]
  },
  {
   "cell_type": "markdown",
   "metadata": {},
   "source": [
    "When we want to make a change in our database, we can do it just by calling a method from within `session`.  \n",
    "The `DBSession` object gives me a staging zone for all of the objects loaded into a database session object.  \n",
    "Any change made to the objects in the session won't persist into the database until committed."
   ]
  },
  {
   "cell_type": "markdown",
   "metadata": {},
   "source": [
    "### Commands for Creating an entry\n",
    "\n",
    "`\n",
    "In []: newEntry = ClassName(property=value,...)\n",
    "In []: session.add(newEntry)\n",
    "In []: session.commit()\n",
    "`"
   ]
  },
  {
   "cell_type": "code",
   "execution_count": 19,
   "metadata": {
    "collapsed": true
   },
   "outputs": [],
   "source": [
    "myFirstRestaurant = Restaurant(name='PFC')\n",
    "session.add(myFirstRestaurant)\n",
    "session.commit()"
   ]
  },
  {
   "cell_type": "code",
   "execution_count": 20,
   "metadata": {
    "collapsed": false
   },
   "outputs": [
    {
     "data": {
      "text/plain": [
       "[<database_setup.Restaurant at 0x10a09b898>]"
      ]
     },
     "execution_count": 20,
     "metadata": {},
     "output_type": "execute_result"
    }
   ],
   "source": [
    "session.query(Restaurant).all() # testing"
   ]
  },
  {
   "cell_type": "code",
   "execution_count": 22,
   "metadata": {
    "collapsed": true
   },
   "outputs": [],
   "source": [
    "cheesePizza = MenuItem(name='Cheese Pizza', description='Made with love by Kshitij', course='Entree', price='$8.99', restaurant=myFirstRestaurant)\n",
    "session.add(cheesePizza)\n",
    "session.commit()"
   ]
  },
  {
   "cell_type": "code",
   "execution_count": 23,
   "metadata": {
    "collapsed": false
   },
   "outputs": [
    {
     "data": {
      "text/plain": [
       "[<database_setup.MenuItem at 0x10a0be7f0>]"
      ]
     },
     "execution_count": 23,
     "metadata": {},
     "output_type": "execute_result"
    }
   ],
   "source": [
    "session.query(MenuItem).all() # testing"
   ]
  },
  {
   "cell_type": "markdown",
   "metadata": {},
   "source": [
    "## CRUD : `READ`"
   ]
  },
  {
   "cell_type": "code",
   "execution_count": 26,
   "metadata": {
    "collapsed": true
   },
   "outputs": [],
   "source": [
    "firstResult = session.query(Restaurant).first() \n",
    "# variable corresponds to a single row in the DB allowing us to extract column entries as method names"
   ]
  },
  {
   "cell_type": "code",
   "execution_count": 27,
   "metadata": {
    "collapsed": false
   },
   "outputs": [
    {
     "data": {
      "text/plain": [
       "'PFC'"
      ]
     },
     "execution_count": 27,
     "metadata": {},
     "output_type": "execute_result"
    }
   ],
   "source": [
    "firstResult.name"
   ]
  },
  {
   "cell_type": "code",
   "execution_count": 28,
   "metadata": {
    "collapsed": false
   },
   "outputs": [
    {
     "data": {
      "text/plain": [
       "[<database_setup.Restaurant at 0x10a09b898>,\n",
       " <database_setup.Restaurant at 0x10a0ed9b0>,\n",
       " <database_setup.Restaurant at 0x10a0eda90>,\n",
       " <database_setup.Restaurant at 0x10a0edb00>,\n",
       " <database_setup.Restaurant at 0x10a0edb70>,\n",
       " <database_setup.Restaurant at 0x10a0edbe0>,\n",
       " <database_setup.Restaurant at 0x10a0edc50>,\n",
       " <database_setup.Restaurant at 0x10a0edcc0>,\n",
       " <database_setup.Restaurant at 0x10a0edd30>,\n",
       " <database_setup.Restaurant at 0x10a0eddd8>]"
      ]
     },
     "execution_count": 28,
     "metadata": {},
     "output_type": "execute_result"
    }
   ],
   "source": [
    "session.query(Restaurant).all()"
   ]
  },
  {
   "cell_type": "code",
   "execution_count": 29,
   "metadata": {
    "collapsed": false
   },
   "outputs": [
    {
     "name": "stdout",
     "output_type": "stream",
     "text": [
      "PFC\n",
      "Urban Burger\n",
      "Super Stir Fry\n",
      "Panda Garden\n",
      "Thyme for That Vegetarian Cuisine \n",
      "Tony's Bistro \n",
      "Andala's\n",
      "Auntie Ann's Diner' \n",
      "Cocina Y Amor \n",
      "State Bird Provisions\n"
     ]
    }
   ],
   "source": [
    "# looping through data\n",
    "items = session.query(Restaurant).all()\n",
    "for item in items:\n",
    "    print(item.name)"
   ]
  },
  {
   "cell_type": "markdown",
   "metadata": {},
   "source": [
    "## CRUD : `UPDATE`\n",
    "\n",
    "Updating entry data in our DB is a 4-step process:\n",
    "1. Find the entry\n",
    "2. Reset values\n",
    "3. Add it to the session\n",
    "4. Commit"
   ]
  },
  {
   "cell_type": "code",
   "execution_count": 30,
   "metadata": {
    "collapsed": false
   },
   "outputs": [
    {
     "name": "stdout",
     "output_type": "stream",
     "text": [
      "2\n",
      "$7.50\n",
      "Urban Burger\n",
      "10\n",
      "$5.99\n",
      "Urban Burger\n",
      "21\n",
      "$9.50\n",
      "Panda Garden\n",
      "27\n",
      "$6.80\n",
      "Thyme for That Vegetarian Cuisine \n",
      "37\n",
      "$7.00\n",
      "Andala's\n",
      "43\n",
      "$9.50\n",
      "Auntie Ann's Diner' \n"
     ]
    }
   ],
   "source": [
    "veggieBurgers = session.query(MenuItem).filter_by(name='Veggie Burger')\n",
    "for veggieBurger in veggieBurgers:\n",
    "    print(veggieBurger.id)\n",
    "    print(veggieBurger.price)\n",
    "    print(veggieBurger.restaurant.name)"
   ]
  },
  {
   "cell_type": "code",
   "execution_count": 31,
   "metadata": {
    "collapsed": true
   },
   "outputs": [],
   "source": [
    "UrbanVeggieBurger = session.query(MenuItem).filter_by(id=10).one()"
   ]
  },
  {
   "cell_type": "code",
   "execution_count": 32,
   "metadata": {
    "collapsed": false
   },
   "outputs": [
    {
     "data": {
      "text/plain": [
       "'$5.99'"
      ]
     },
     "execution_count": 32,
     "metadata": {},
     "output_type": "execute_result"
    }
   ],
   "source": [
    "UrbanVeggieBurger.price"
   ]
  },
  {
   "cell_type": "code",
   "execution_count": 33,
   "metadata": {
    "collapsed": true
   },
   "outputs": [],
   "source": [
    "UrbanVeggieBurger.price = '$2.99'\n",
    "session.add(UrbanVeggieBurger)\n",
    "session.commit()"
   ]
  },
  {
   "cell_type": "code",
   "execution_count": 34,
   "metadata": {
    "collapsed": false
   },
   "outputs": [
    {
     "name": "stdout",
     "output_type": "stream",
     "text": [
      "2\n",
      "$7.50\n",
      "Urban Burger\n",
      "10\n",
      "$2.99\n",
      "Urban Burger\n",
      "21\n",
      "$9.50\n",
      "Panda Garden\n",
      "27\n",
      "$6.80\n",
      "Thyme for That Vegetarian Cuisine \n",
      "37\n",
      "$7.00\n",
      "Andala's\n",
      "43\n",
      "$9.50\n",
      "Auntie Ann's Diner' \n"
     ]
    }
   ],
   "source": [
    "veggieBurgers = session.query(MenuItem).filter_by(name='Veggie Burger')\n",
    "for veggieBurger in veggieBurgers:\n",
    "    print(veggieBurger.id)\n",
    "    print(veggieBurger.price)\n",
    "    print(veggieBurger.restaurant.name)"
   ]
  },
  {
   "cell_type": "code",
   "execution_count": 35,
   "metadata": {
    "collapsed": true
   },
   "outputs": [],
   "source": [
    "veggieBurgers = session.query(MenuItem).filter_by(name='Veggie Burger')\n",
    "for veggieBurger in veggieBurgers:\n",
    "    veggieBurger.price = '$2.99'\n",
    "    session.add(veggieBurger)\n",
    "    session.commit()"
   ]
  },
  {
   "cell_type": "code",
   "execution_count": 36,
   "metadata": {
    "collapsed": false
   },
   "outputs": [
    {
     "name": "stdout",
     "output_type": "stream",
     "text": [
      "2\n",
      "$2.99\n",
      "Urban Burger\n",
      "10\n",
      "$2.99\n",
      "Urban Burger\n",
      "21\n",
      "$2.99\n",
      "Panda Garden\n",
      "27\n",
      "$2.99\n",
      "Thyme for That Vegetarian Cuisine \n",
      "37\n",
      "$2.99\n",
      "Andala's\n",
      "43\n",
      "$2.99\n",
      "Auntie Ann's Diner' \n"
     ]
    }
   ],
   "source": [
    "veggieBurgers = session.query(MenuItem).filter_by(name='Veggie Burger')\n",
    "for veggieBurger in veggieBurgers:\n",
    "    print(veggieBurger.id)\n",
    "    print(veggieBurger.price)\n",
    "    print(veggieBurger.restaurant.name)"
   ]
  }
 ],
 "metadata": {
  "kernelspec": {
   "display_name": "Python 3",
   "language": "python",
   "name": "python3"
  },
  "language_info": {
   "codemirror_mode": {
    "name": "ipython",
    "version": 3
   },
   "file_extension": ".py",
   "mimetype": "text/x-python",
   "name": "python",
   "nbconvert_exporter": "python",
   "pygments_lexer": "ipython3",
   "version": "3.6.0"
  }
 },
 "nbformat": 4,
 "nbformat_minor": 2
}
